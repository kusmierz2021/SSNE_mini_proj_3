{
 "cells": [
  {
   "cell_type": "code",
   "execution_count": 9,
   "outputs": [],
   "source": [
    "import torch\n",
    "from torch import nn\n",
    "import torchvision\n",
    "import torchvision.transforms as transforms\n",
    "import torchvision.datasets as datasets\n",
    "import pandas as pd\n",
    "import numpy as np"
   ],
   "metadata": {
    "collapsed": false
   }
  },
  {
   "cell_type": "code",
   "execution_count": 10,
   "outputs": [],
   "source": [
    "torch.cuda.set_device(0)\n",
    "device = torch.device(\"cuda\")"
   ],
   "metadata": {
    "collapsed": false
   }
  },
  {
   "cell_type": "code",
   "execution_count": 11,
   "outputs": [],
   "source": [
    "transform = transforms.Compose(\n",
    "    [transforms.ToTensor(),\n",
    "     transforms.Normalize((0.5, 0.5, 0.5), (0.5, 0.5, 0.5))])\n",
    "\n",
    "batch_size = 32"
   ],
   "metadata": {
    "collapsed": false
   }
  },
  {
   "cell_type": "code",
   "execution_count": 12,
   "outputs": [],
   "source": [
    "trainset = datasets.ImageFolder(\"train/\", transform=transform)\n",
    "trainloader = torch.utils.data.DataLoader(trainset, batch_size=batch_size,\n",
    "                                          shuffle=True, num_workers=2)\n",
    "\n",
    "testset = datasets.ImageFolder(\"test_all/\", transform=transform)\n",
    "testloader = torch.utils.data.DataLoader(testset, batch_size=batch_size,\n",
    "                                         shuffle=False, num_workers=2)\n",
    "\n",
    "classes = tuple(trainset.classes)"
   ],
   "metadata": {
    "collapsed": false
   }
  },
  {
   "cell_type": "code",
   "execution_count": 14,
   "outputs": [
    {
     "name": "stderr",
     "output_type": "stream",
     "text": [
      "100%|██████████| 88010/88010 [04:38<00:00, 316.37it/s]\n"
     ]
    },
    {
     "data": {
      "text/plain": "[1800,\n 1800,\n 1800,\n 1800,\n 1800,\n 1800,\n 1800,\n 1800,\n 1800,\n 1800,\n 1108,\n 1800,\n 1800,\n 503,\n 1800,\n 1800,\n 1800,\n 1800,\n 1800,\n 1800,\n 1800,\n 1800,\n 1800,\n 1800,\n 1800,\n 1800,\n 1800,\n 1800,\n 1800,\n 1800,\n 1800,\n 1800,\n 1800,\n 1800,\n 1800,\n 1800,\n 1800,\n 1800,\n 1800,\n 1800,\n 1800,\n 1800,\n 1800,\n 1800,\n 1800,\n 1800,\n 1800,\n 1800,\n 1800,\n 1800]"
     },
     "execution_count": 14,
     "metadata": {},
     "output_type": "execute_result"
    }
   ],
   "source": [
    "from tqdm import tqdm\n",
    "def check_classes_amount(set_with_labels):\n",
    "    counter = [1,0,0,0,0,0,0,0,0,0,\n",
    "               0,0,0,0,0,0,0,0,0,0,\n",
    "               0,0,0,0,0,0,0,0,0,0,\n",
    "               0,0,0,0,0,0,0,0,0,0,\n",
    "               0,0,0,0,0,0,0,0,0,0]\n",
    "    count = 0\n",
    "    for j in tqdm(range(88010)):\n",
    "        if set_with_labels[j][1] == set_with_labels[j+1][1]:\n",
    "            counter[count] = counter[count] + 1\n",
    "        else:\n",
    "            count += 1\n",
    "            counter[count] = counter[count] + 1\n",
    "\n",
    "    return counter\n",
    "\n",
    "check_classes_amount(trainset)"
   ],
   "metadata": {
    "collapsed": false
   }
  },
  {
   "cell_type": "code",
   "execution_count": null,
   "outputs": [],
   "source": [],
   "metadata": {
    "collapsed": false
   }
  }
 ],
 "metadata": {
  "kernelspec": {
   "display_name": "Python 3",
   "language": "python",
   "name": "python3"
  },
  "language_info": {
   "codemirror_mode": {
    "name": "ipython",
    "version": 2
   },
   "file_extension": ".py",
   "mimetype": "text/x-python",
   "name": "python",
   "nbconvert_exporter": "python",
   "pygments_lexer": "ipython2",
   "version": "2.7.6"
  }
 },
 "nbformat": 4,
 "nbformat_minor": 0
}
