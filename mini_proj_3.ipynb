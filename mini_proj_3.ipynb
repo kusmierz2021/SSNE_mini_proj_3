{
 "cells": [
  {
   "cell_type": "code",
   "execution_count": 161,
   "outputs": [],
   "source": [
    "import torch\n",
    "from torch import nn\n",
    "import torchvision\n",
    "import torchvision.transforms as transforms\n",
    "import torchvision.datasets as datasets\n",
    "import pandas as pd\n",
    "import numpy as np\n",
    "import os\n",
    "import shutil"
   ],
   "metadata": {
    "collapsed": false,
    "pycharm": {
     "name": "#%%\n"
    }
   }
  },
  {
   "cell_type": "code",
   "execution_count": 162,
   "outputs": [],
   "source": [
    "torch.cuda.set_device(0)\n",
    "device = torch.device(\"cuda\")\n",
    "\n",
    "def set_all_seeds(seed):\n",
    "    os.environ[\"PL_GLOBAL_SEED\"] = str(seed)\n",
    "    random.seed(seed)\n",
    "    np.random.seed(seed)\n",
    "    torch.manual_seed(seed)\n",
    "    torch.cuda.manual_seed_all(seed)\n",
    "\n",
    "set_all_seeds(42)"
   ],
   "metadata": {
    "collapsed": false,
    "pycharm": {
     "name": "#%%\n"
    }
   }
  },
  {
   "cell_type": "markdown",
   "source": [
    "# Oversampling"
   ],
   "metadata": {
    "collapsed": false,
    "pycharm": {
     "name": "#%% md\n"
    }
   }
  },
  {
   "cell_type": "code",
   "execution_count": 163,
   "outputs": [],
   "source": [
    "from tqdm import tqdm\n",
    "def check_classes_amount(set_with_labels):\n",
    "    counter = [1,0,0,0,0,0,0,0,0,0,\n",
    "               0,0,0,0,0,0,0,0,0,0,\n",
    "               0,0,0,0,0,0,0,0,0,0,\n",
    "               0,0,0,0,0,0,0,0,0,0,\n",
    "               0,0,0,0,0,0,0,0,0,0]\n",
    "    count = 0\n",
    "    for j in tqdm(range(88010)):\n",
    "        if set_with_labels[j][1] == set_with_labels[j+1][1]:\n",
    "            counter[count] = counter[count] + 1\n",
    "        else:\n",
    "            count += 1\n",
    "            counter[count] = counter[count] + 1\n",
    "\n",
    "    return counter"
   ],
   "metadata": {
    "collapsed": false,
    "pycharm": {
     "name": "#%%\n"
    }
   }
  },
  {
   "cell_type": "code",
   "execution_count": 164,
   "outputs": [],
   "source": [
    "import random\n",
    "\n",
    "def over_sample_bread_carbon():\n",
    "    classes_amounts = check_classes_amount(trainset)\n",
    "    sub_folders = os.listdir(\"./train\")\n",
    "    list_of_images_bread = os.listdir(f\"./train/{sub_folders[10]}\")\n",
    "    list_of_images_carbon = os.listdir(f\"./train/{sub_folders[13]}\")\n",
    "\n",
    "    to_oversample_bread = random.sample(list_of_images_bread, k=(1800 - classes_amounts[10]))\n",
    "    to_oversample_carbon = random.sample(list_of_images_carbon, k= (1800 - 3 * classes_amounts[13]))\n",
    "\n",
    "    # oversample bread class\n",
    "    for i in range(len(to_oversample_bread)):\n",
    "        shutil.copy(f\"./train/{sub_folders[10]}/{to_oversample_bread[i]}\", f\"./train/{sub_folders[10]}/{[name[:-5] + '_1' + name[-5:] for name in to_oversample_bread][i]}\")\n",
    "\n",
    "    # oversample carbon class\n",
    "    for i in range(classes_amounts[13]):\n",
    "        shutil.copy(f\"./train/{sub_folders[13]}/{list_of_images_carbon[i]}\", f\"./train/{sub_folders[13]}/{[name[:-5] + '_1' + name[-5:] for name in list_of_images_carbon][i]}\")\n",
    "\n",
    "    for i in range(classes_amounts[13]):\n",
    "        shutil.copy(f\"./train/{sub_folders[13]}/{list_of_images_carbon[i]}\", f\"./train/{sub_folders[13]}/{[name[:-5] + '_2' + name[-5:] for name in list_of_images_carbon][i]}\")\n",
    "\n",
    "    for i in range(len(to_oversample_carbon)):\n",
    "        shutil.copy(f\"./train/{sub_folders[13]}/{to_oversample_carbon[i]}\", f\"./train/{sub_folders[13]}/{[name[:-5] + '_3' + name[-5:] for name in to_oversample_carbon][i]}\")"
   ],
   "metadata": {
    "collapsed": false,
    "pycharm": {
     "name": "#%%\n"
    }
   }
  },
  {
   "cell_type": "code",
   "execution_count": 165,
   "outputs": [
    {
     "name": "stderr",
     "output_type": "stream",
     "text": [
      "100%|██████████| 88010/88010 [00:46<00:00, 1905.21it/s]\n"
     ]
    }
   ],
   "source": [
    "trainset = datasets.ImageFolder(\"train/\")\n",
    "over_sample_bread_carbon()"
   ],
   "metadata": {
    "collapsed": false,
    "pycharm": {
     "name": "#%%\n"
    }
   }
  },
  {
   "cell_type": "markdown",
   "source": [
    "# Create val folder"
   ],
   "metadata": {
    "collapsed": false,
    "pycharm": {
     "name": "#%% md\n"
    }
   }
  },
  {
   "cell_type": "code",
   "execution_count": 166,
   "outputs": [],
   "source": [
    "def create_val_folder():\n",
    "    sub_folders = os.listdir(\"./train\")\n",
    "    os.mkdir(\"./val\")\n",
    "    for sub_folder in sub_folders:\n",
    "        os.mkdir(f\"./val/{sub_folder}\")\n",
    "\n",
    "    for sub_folder in sub_folders:\n",
    "        to_move = random.sample(os.listdir(f\"./train/{sub_folder}\"), k=360)\n",
    "        for image in to_move:\n",
    "            shutil.move(f\"./train/{sub_folder}/{image}\", f\"./val/{sub_folder}/{image}\")\n",
    "\n",
    "create_val_folder()"
   ],
   "metadata": {
    "collapsed": false,
    "pycharm": {
     "name": "#%%\n"
    }
   }
  },
  {
   "cell_type": "markdown",
   "source": [
    "# Data preparation"
   ],
   "metadata": {
    "collapsed": false,
    "pycharm": {
     "name": "#%% md\n"
    }
   }
  },
  {
   "cell_type": "code",
   "execution_count": 167,
   "outputs": [],
   "source": [
    "# trainset = datasets.ImageFolder(\"train/\", transform=transform)\n",
    "# trainloader = torch.utils.data.DataLoader(trainset, batch_size=batch_size,\n",
    "#                                           shuffle=True, num_workers=2)\n",
    "\n",
    "\n",
    "#\n",
    "# testset = datasets.ImageFolder(\"test_all/\", transform=transform)\n",
    "# testloader = torch.utils.data.DataLoader(testset, batch_size=batch_size,\n",
    "#                                          shuffle=False, num_workers=2)\n",
    "#\n",
    "# classes = tuple(trainset.classes)"
   ],
   "metadata": {
    "collapsed": false,
    "pycharm": {
     "name": "#%%\n"
    }
   }
  }
 ],
 "metadata": {
  "kernelspec": {
   "display_name": "Python 3",
   "language": "python",
   "name": "python3"
  },
  "language_info": {
   "codemirror_mode": {
    "name": "ipython",
    "version": 2
   },
   "file_extension": ".py",
   "mimetype": "text/x-python",
   "name": "python",
   "nbconvert_exporter": "python",
   "pygments_lexer": "ipython2",
   "version": "2.7.6"
  }
 },
 "nbformat": 4,
 "nbformat_minor": 0
}